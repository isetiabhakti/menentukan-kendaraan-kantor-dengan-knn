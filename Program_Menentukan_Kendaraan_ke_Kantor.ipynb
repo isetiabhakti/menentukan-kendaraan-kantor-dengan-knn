{
 "cells": [
  {
   "cell_type": "code",
   "execution_count": 1,
   "metadata": {
    "id": "ikbgcsdqE6qN"
   },
   "outputs": [],
   "source": [
    "import pandas as pd"
   ]
  },
  {
   "cell_type": "code",
   "execution_count": 3,
   "metadata": {
    "id": "JnEOMMLTFhRt"
   },
   "outputs": [],
   "source": [
    "dataset = pd.read_csv(\"training-kendaraan.csv\")"
   ]
  },
  {
   "cell_type": "code",
   "execution_count": 4,
   "metadata": {
    "colab": {
     "base_uri": "https://localhost:8080/",
     "height": 300
    },
    "id": "5yqeSQBmF9Nd",
    "outputId": "f8fcbe8e-6461-4c2c-c011-ebc4a7255622"
   },
   "outputs": [
    {
     "data": {
      "text/html": [
       "<div>\n",
       "<style scoped>\n",
       "    .dataframe tbody tr th:only-of-type {\n",
       "        vertical-align: middle;\n",
       "    }\n",
       "\n",
       "    .dataframe tbody tr th {\n",
       "        vertical-align: top;\n",
       "    }\n",
       "\n",
       "    .dataframe thead th {\n",
       "        text-align: right;\n",
       "    }\n",
       "</style>\n",
       "<table border=\"1\" class=\"dataframe\">\n",
       "  <thead>\n",
       "    <tr style=\"text-align: right;\">\n",
       "      <th></th>\n",
       "      <th>Cuaca</th>\n",
       "      <th>Kepadatan</th>\n",
       "      <th>Kendaraan</th>\n",
       "    </tr>\n",
       "  </thead>\n",
       "  <tbody>\n",
       "    <tr>\n",
       "      <th>0</th>\n",
       "      <td>Cerah</td>\n",
       "      <td>Lancar</td>\n",
       "      <td>Motor</td>\n",
       "    </tr>\n",
       "    <tr>\n",
       "      <th>1</th>\n",
       "      <td>Cerah</td>\n",
       "      <td>Padat</td>\n",
       "      <td>Motor</td>\n",
       "    </tr>\n",
       "    <tr>\n",
       "      <th>2</th>\n",
       "      <td>Cerah</td>\n",
       "      <td>Macet</td>\n",
       "      <td>Motor</td>\n",
       "    </tr>\n",
       "    <tr>\n",
       "      <th>3</th>\n",
       "      <td>Panas</td>\n",
       "      <td>Macet</td>\n",
       "      <td>Mobil</td>\n",
       "    </tr>\n",
       "    <tr>\n",
       "      <th>4</th>\n",
       "      <td>Berawan</td>\n",
       "      <td>Lancar</td>\n",
       "      <td>Motor</td>\n",
       "    </tr>\n",
       "    <tr>\n",
       "      <th>5</th>\n",
       "      <td>Hujan</td>\n",
       "      <td>Lancar</td>\n",
       "      <td>Mobil</td>\n",
       "    </tr>\n",
       "    <tr>\n",
       "      <th>6</th>\n",
       "      <td>Hujan</td>\n",
       "      <td>Padat</td>\n",
       "      <td>Mobil</td>\n",
       "    </tr>\n",
       "    <tr>\n",
       "      <th>7</th>\n",
       "      <td>Hujan</td>\n",
       "      <td>Macet</td>\n",
       "      <td>Mobil</td>\n",
       "    </tr>\n",
       "  </tbody>\n",
       "</table>\n",
       "</div>"
      ],
      "text/plain": [
       "     Cuaca Kepadatan Kendaraan\n",
       "0    Cerah    Lancar     Motor\n",
       "1    Cerah     Padat     Motor\n",
       "2    Cerah     Macet     Motor\n",
       "3    Panas     Macet     Mobil\n",
       "4  Berawan    Lancar     Motor\n",
       "5    Hujan    Lancar     Mobil\n",
       "6    Hujan     Padat     Mobil\n",
       "7    Hujan     Macet     Mobil"
      ]
     },
     "execution_count": 4,
     "metadata": {},
     "output_type": "execute_result"
    }
   ],
   "source": [
    "dataset"
   ]
  },
  {
   "cell_type": "code",
   "execution_count": 5,
   "metadata": {
    "id": "QmucCkn7ITnA"
   },
   "outputs": [],
   "source": [
    "x = dataset.iloc[:,0]\n",
    "y = dataset.iloc[:,1]\n",
    "z = dataset.iloc[:,2]"
   ]
  },
  {
   "cell_type": "code",
   "execution_count": 6,
   "metadata": {
    "id": "CTDlkELAGE3c"
   },
   "outputs": [],
   "source": [
    "from sklearn import preprocessing\n",
    "le = preprocessing.LabelEncoder()"
   ]
  },
  {
   "cell_type": "code",
   "execution_count": 7,
   "metadata": {
    "colab": {
     "base_uri": "https://localhost:8080/"
    },
    "id": "2qLy9DklJBO3",
    "outputId": "7dad2f97-b9af-412b-ea6d-4586c4bb1308"
   },
   "outputs": [
    {
     "name": "stdout",
     "output_type": "stream",
     "text": [
      "3  =  Panas\n",
      "2  =  Hujan\n",
      "1  =  Cerah\n",
      "0  =  Berawan\n",
      "------------\n",
      "0  =  Lancar\n",
      "1  =  Macet\n",
      "2  =  Padat\n"
     ]
    }
   ],
   "source": [
    "cuaca     = le.fit_transform(x)\n",
    "kepadatan = le.fit_transform(y)\n",
    "kendaraan = z\n",
    "\n",
    "kode_cuaca = list(dict.fromkeys(cuaca))\n",
    "nama_cuaca = list(dict.fromkeys(x))\n",
    "\n",
    "for i in kode_cuaca:\n",
    "  print(kode_cuaca[i],\" = \",nama_cuaca[i])\n",
    "\n",
    "print(\"------------\")\n",
    "\n",
    "kode_kepadatan = list(dict.fromkeys(kepadatan))\n",
    "nama_kepadatan = list(dict.fromkeys(y))\n",
    "\n",
    "for i in kode_kepadatan:\n",
    "  print(kode_kepadatan[i],\" = \",nama_kepadatan[i])"
   ]
  },
  {
   "cell_type": "code",
   "execution_count": 8,
   "metadata": {
    "colab": {
     "base_uri": "https://localhost:8080/"
    },
    "id": "V-v8JUQfJahL",
    "outputId": "914f32e6-08d6-4c0c-ba42-922d1835732c"
   },
   "outputs": [
    {
     "data": {
      "text/plain": [
       "[(1, 0), (1, 2), (1, 1), (3, 1), (0, 0), (2, 0), (2, 2), (2, 1)]"
      ]
     },
     "execution_count": 8,
     "metadata": {},
     "output_type": "execute_result"
    }
   ],
   "source": [
    "features=list(zip(cuaca,kepadatan))\n",
    "features"
   ]
  },
  {
   "cell_type": "code",
   "execution_count": 9,
   "metadata": {
    "colab": {
     "base_uri": "https://localhost:8080/"
    },
    "id": "XhFGrIqmJszq",
    "outputId": "6f52d4ed-cbed-4245-8e57-36b8d98bc8d3"
   },
   "outputs": [
    {
     "data": {
      "text/plain": [
       "KNeighborsClassifier(n_neighbors=3)"
      ]
     },
     "execution_count": 9,
     "metadata": {},
     "output_type": "execute_result"
    }
   ],
   "source": [
    "from sklearn.neighbors import KNeighborsClassifier\n",
    "\n",
    "knn = KNeighborsClassifier(n_neighbors=3)\n",
    "knn.fit(features,kendaraan)"
   ]
  },
  {
   "cell_type": "code",
   "execution_count": 10,
   "metadata": {
    "colab": {
     "base_uri": "https://localhost:8080/"
    },
    "id": "d-NLYHXcJ8cD",
    "outputId": "0c5f5fbd-e101-4751-9896-4685fc2ab852",
    "scrolled": true
   },
   "outputs": [
    {
     "name": "stdout",
     "output_type": "stream",
     "text": [
      "3  =  Panas\n",
      "2  =  Hujan\n",
      "1  =  Cerah\n",
      "0  =  Berawan\n",
      "Masukan Keadaan Cuaca = 0\n",
      "-----------------\n",
      "0  =  Lancar\n",
      "1  =  Macet\n",
      "2  =  Padat\n",
      "Masukan Kepadatan Jalan = 0\n",
      "-----------------\n",
      "Anda Sebaiknya Menggunakan ['Motor']  Untuk Pergi ke Kantor Hari ini.\n"
     ]
    }
   ],
   "source": [
    "for i in kode_cuaca:\n",
    "  print(kode_cuaca[i],\" = \",nama_cuaca[i])\n",
    "\n",
    "a = int(input(\"Masukan Keadaan Cuaca = \"))\n",
    "\n",
    "print(\"-----------------\")\n",
    "\n",
    "for i in kode_kepadatan:\n",
    "  print(kode_kepadatan[i],\" = \",nama_kepadatan[i])\n",
    "b = int(input(\"Masukan Kepadatan Jalan = \"))\n",
    "\n",
    "predicted= knn.predict([[a,b]])\n",
    "print(\"-----------------\")\n",
    "print(\"Anda Sebaiknya Menggunakan\", predicted, \" Untuk Pergi ke Kantor Hari ini.\")"
   ]
  }
 ],
 "metadata": {
  "colab": {
   "collapsed_sections": [],
   "name": "Program Menentukan Kendaraan ke Kantor.ipynb",
   "provenance": []
  },
  "kernelspec": {
   "display_name": "Python 3",
   "language": "python",
   "name": "python3"
  },
  "language_info": {
   "codemirror_mode": {
    "name": "ipython",
    "version": 3
   },
   "file_extension": ".py",
   "mimetype": "text/x-python",
   "name": "python",
   "nbconvert_exporter": "python",
   "pygments_lexer": "ipython3",
   "version": "3.8.8"
  }
 },
 "nbformat": 4,
 "nbformat_minor": 1
}
